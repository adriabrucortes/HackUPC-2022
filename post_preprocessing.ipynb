{
 "cells": [
  {
   "cell_type": "markdown",
   "metadata": {},
   "source": [
    "# Post-preprocessing"
   ]
  },
  {
   "cell_type": "markdown",
   "metadata": {},
   "source": [
    "## Libraries"
   ]
  },
  {
   "cell_type": "code",
   "execution_count": 3,
   "metadata": {},
   "outputs": [],
   "source": [
    "import pandas as pd\n",
    "import numpy as np\n",
    "from sklearn import preprocessing"
   ]
  },
  {
   "cell_type": "markdown",
   "metadata": {},
   "source": [
    "## Import and shuffle"
   ]
  },
  {
   "cell_type": "code",
   "execution_count": 4,
   "metadata": {},
   "outputs": [],
   "source": [
    "raw_train = pd.read_csv(\"taula_final.csv\")\n",
    "#raw_test = pd.read_csv(\"test.csv\")"
   ]
  },
  {
   "cell_type": "code",
   "execution_count": null,
   "metadata": {},
   "outputs": [],
   "source": [
    "sh_train = raw_train.copy().sample(frac = 1).reset_index(drop = True)"
   ]
  },
  {
   "cell_type": "markdown",
   "metadata": {},
   "source": [
    "## Inputs & targets"
   ]
  },
  {
   "cell_type": "code",
   "execution_count": null,
   "metadata": {},
   "outputs": [],
   "source": [
    "rw_tr_in = sh_train.drop(\"sales\", axis = 1)\n",
    "rw_tr_out = sh_train.filter([\"sales\"], axis = 1)\n",
    "\n",
    "#rw_test_in = raw_test.drop([\"ID\"], axis = 1)"
   ]
  },
  {
   "cell_type": "markdown",
   "metadata": {},
   "source": [
    "## Batching"
   ]
  },
  {
   "cell_type": "code",
   "execution_count": null,
   "metadata": {},
   "outputs": [],
   "source": [
    "input_samples = rw_tr_in.copy()\n",
    "target_samples = rw_tr_out.copy()\n",
    "\n",
    "n_train = int(0.8 * len(rw_tr_in))\n",
    "\n",
    "b_tr_in = input_samples[:n_train]\n",
    "b_tr_out = target_samples[:n_train]\n",
    "\n",
    "b_val_in = input_samples[n_train:]\n",
    "b_val_out = target_samples[n_train:]\n",
    "\n",
    "print(len(b_tr_in), len(b_tr_out), len(b_val_in), len(b_val_out))"
   ]
  },
  {
   "cell_type": "markdown",
   "metadata": {},
   "source": [
    "## ID separation"
   ]
  },
  {
   "cell_type": "code",
   "execution_count": null,
   "metadata": {},
   "outputs": [],
   "source": [
    "# IDS\n",
    "tr_ID = b_tr_in.filter([\"ID\"], axis = 1)\n",
    "val_ID = b_val_in.filter([\"ID\"], axis = 1)\n",
    "#test_ID = raw_test.filter([\"ID\"], axis = 1)\n",
    "\n",
    "# FEATURES\n",
    "s_tr_in = b_tr_in.drop(\"ID\", axis = 1)\n",
    "s_val_in = b_val_in.drop(\"ID\", axis = 1)\n",
    "#s_test = rw_test_in.drop(\"ID\", axis = 1)"
   ]
  },
  {
   "cell_type": "markdown",
   "metadata": {},
   "source": [
    "## Normalisation"
   ]
  },
  {
   "cell_type": "code",
   "execution_count": null,
   "metadata": {},
   "outputs": [],
   "source": [
    "tr_in = preprocessing.scale(s_tr_in)\n",
    "tr_out = preprocessing.scale(b_tr_out)\n",
    "\n",
    "val_in = preprocessing.scale(s_val_in)\n",
    "val_out = preprocessing.scale(b_val_out)\n",
    "\n",
    "#test = preprocessing.scale(s_test)"
   ]
  },
  {
   "cell_type": "markdown",
   "metadata": {},
   "source": [
    "## Export"
   ]
  },
  {
   "cell_type": "code",
   "execution_count": null,
   "metadata": {},
   "outputs": [],
   "source": [
    "np.savez (\"train\", id = tr_ID, inputs = tr_in, targets = tr_out)\n",
    "np.savez (\"val\", id = val_ID, inputs = val_in, targets = val_out)\n",
    "#np.savez (\"test\", id = test_ID, inputs = test)"
   ]
  }
 ],
 "metadata": {
  "interpreter": {
   "hash": "8ede5a25ac400a1c82459112f43899af261185c8c7ccc3ddc9eaeff40f003ca8"
  },
  "kernelspec": {
   "display_name": "Python 3.9.7 ('base')",
   "language": "python",
   "name": "python3"
  },
  "language_info": {
   "codemirror_mode": {
    "name": "ipython",
    "version": 3
   },
   "file_extension": ".py",
   "mimetype": "text/x-python",
   "name": "python",
   "nbconvert_exporter": "python",
   "pygments_lexer": "ipython3",
   "version": "3.9.7"
  },
  "orig_nbformat": 4
 },
 "nbformat": 4,
 "nbformat_minor": 2
}
